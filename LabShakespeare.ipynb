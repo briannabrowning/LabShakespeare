{
 "cells": [
  {
   "cell_type": "code",
   "execution_count": 1,
   "id": "21149a30-9318-447c-a2f9-39e9df3ce180",
   "metadata": {},
   "outputs": [],
   "source": [
    "# Import necessary PySpark functions\n",
    "from pyspark.sql import SparkSession\n",
    "import pyspark.sql.functions as F\n",
    "from pyspark import SparkFiles\n",
    "\n",
    "# Initialize SparkSession\n",
    "spark = SparkSession.builder.appName(\"Shakespeare\").getOrCreate()"
   ]
  },
  {
   "cell_type": "code",
   "execution_count": 2,
   "id": "5e47c68a-8bb8-4c6c-84e5-867e2bdd3fdd",
   "metadata": {},
   "outputs": [],
   "source": [
    "# add file URLs to dwonload into Spark Nodes\n",
    "romeo = 'https://www.gutenberg.org/cache/epub/1513/pg1513.txt'\n",
    "spark.sparkContext.addFile(romeo)"
   ]
  },
  {
   "cell_type": "code",
   "execution_count": 3,
   "id": "18f38b39-4912-4b6f-b2e8-558fb1b029aa",
   "metadata": {},
   "outputs": [],
   "source": [
    "macbeth = 'https://www.gutenberg.org/cache/epub/1533/pg1533.txt'\n",
    "spark.sparkContext.addFile(macbeth)"
   ]
  },
  {
   "cell_type": "markdown",
   "id": "8266f977-6301-4778-80fa-361dbfb35d91",
   "metadata": {},
   "source": [
    "**Load files into DataFrame using spark.read.text**"
   ]
  },
  {
   "cell_type": "code",
   "execution_count": 10,
   "id": "7b503ebe-92b5-4830-b37f-c9ee3c77f916",
   "metadata": {
    "scrolled": true
   },
   "outputs": [
    {
     "name": "stdout",
     "output_type": "stream",
     "text": [
      "+--------------------+\n",
      "|               value|\n",
      "+--------------------+\n",
      "|The Project Guten...|\n",
      "|                    |\n",
      "|This ebook is for...|\n",
      "|most other parts ...|\n",
      "|whatsoever. You m...|\n",
      "|of the Project Gu...|\n",
      "|at www.gutenberg....|\n",
      "|you will have to ...|\n",
      "|before using this...|\n",
      "|                    |\n",
      "|Title: Romeo and ...|\n",
      "|                    |\n",
      "|Author: William S...|\n",
      "|                    |\n",
      "|Release date: Nov...|\n",
      "|                M...|\n",
      "|                    |\n",
      "|   Language: English|\n",
      "|                    |\n",
      "|Credits: the PG S...|\n",
      "+--------------------+\n",
      "only showing top 20 rows\n",
      "\n"
     ]
    }
   ],
   "source": [
    "df_romeo = spark.read.text(SparkFiles.get('pg1513.txt'))\n",
    "df_romeo.show()"
   ]
  },
  {
   "cell_type": "code",
   "execution_count": 12,
   "id": "2e57f7f3-d236-49d5-bc20-e7779d3650ec",
   "metadata": {
    "scrolled": true
   },
   "outputs": [
    {
     "data": {
      "text/plain": [
       "[Row(value='The Project Gutenberg eBook of Romeo and Juliet'),\n",
       " Row(value='    '),\n",
       " Row(value='This ebook is for the use of anyone anywhere in the United States and'),\n",
       " Row(value='most other parts of the world at no cost and with almost no restrictions'),\n",
       " Row(value='whatsoever. You may copy it, give it away or re-use it under the terms'),\n",
       " Row(value='of the Project Gutenberg License included with this ebook or online'),\n",
       " Row(value='at www.gutenberg.org. If you are not located in the United States,'),\n",
       " Row(value='you will have to check the laws of the country where you are located'),\n",
       " Row(value='before using this eBook.'),\n",
       " Row(value='')]"
      ]
     },
     "execution_count": 12,
     "metadata": {},
     "output_type": "execute_result"
    }
   ],
   "source": [
    "df.head(10)"
   ]
  },
  {
   "cell_type": "code",
   "execution_count": 11,
   "id": "2cd30fd7-1c6e-47ba-9a2a-00142654f8ab",
   "metadata": {
    "scrolled": true
   },
   "outputs": [
    {
     "name": "stdout",
     "output_type": "stream",
     "text": [
      "+--------------------+\n",
      "|               value|\n",
      "+--------------------+\n",
      "|The Project Guten...|\n",
      "|                    |\n",
      "|This ebook is for...|\n",
      "|most other parts ...|\n",
      "|whatsoever. You m...|\n",
      "|of the Project Gu...|\n",
      "|at www.gutenberg....|\n",
      "|you will have to ...|\n",
      "|before using this...|\n",
      "|                    |\n",
      "|      Title: Macbeth|\n",
      "|                    |\n",
      "|Author: William S...|\n",
      "|                    |\n",
      "|Release date: Nov...|\n",
      "|                M...|\n",
      "|                    |\n",
      "|   Language: English|\n",
      "|                    |\n",
      "|Credits: the PG S...|\n",
      "+--------------------+\n",
      "only showing top 20 rows\n",
      "\n"
     ]
    }
   ],
   "source": [
    "df_macbeth = spark.read.text(SparkFiles.get('pg1533.txt'))\n",
    "df_macbeth.show()"
   ]
  },
  {
   "cell_type": "markdown",
   "id": "dc1d1113-fc5f-435e-9293-0e09c3d439a0",
   "metadata": {},
   "source": [
    "**Seperate the Words**"
   ]
  },
  {
   "cell_type": "markdown",
   "id": "03f74830-0367-4ed1-9fae-1eaa567a0cf5",
   "metadata": {},
   "source": [
    "The DataFrame will start with one line of text per row. Split out the words into one word per row.\n",
    "Remove punctuation from the grouped word counts (e.g. “way.” becomes “way”). This should happen prior to grouping words. (Hint: regular expressions can be helpful here.)\r",
    "Filter non-words: Remove spaces, ellipses, and other non-words.\r\n",
    "\n",
    "\n"
   ]
  },
  {
   "cell_type": "code",
   "execution_count": 18,
   "id": "95ff4d8f-90f8-41be-8c5d-2abb971f21a8",
   "metadata": {},
   "outputs": [],
   "source": [
    "from pyspark.sql.functions import col, split, explode, sum, lower, count, desc, lit\n"
   ]
  },
  {
   "cell_type": "code",
   "execution_count": 32,
   "id": "fdccdd09-24d4-49d9-b668-7c2963668d40",
   "metadata": {},
   "outputs": [
    {
     "name": "stdout",
     "output_type": "stream",
     "text": [
      "+---------+\n",
      "|     word|\n",
      "+---------+\n",
      "|  project|\n",
      "|gutenberg|\n",
      "|    ebook|\n",
      "|    romeo|\n",
      "|   juliet|\n",
      "|     this|\n",
      "|    ebook|\n",
      "|      use|\n",
      "|   anyone|\n",
      "| anywhere|\n",
      "|   united|\n",
      "|   states|\n",
      "|     most|\n",
      "|    other|\n",
      "|    parts|\n",
      "|    world|\n",
      "|       no|\n",
      "|     cost|\n",
      "|     with|\n",
      "|   almost|\n",
      "+---------+\n",
      "only showing top 20 rows\n",
      "\n"
     ]
    }
   ],
   "source": [
    "# split each line into words\n",
    "words_romeo = df_romeo.select(F.explode(F.split(F.col(\"value\"), \"[\\s\\.\\,\\!\\?\\;\\_\\[\\]\\(\\)]+\")).alias(\"word\"))\n",
    "# lowercase each word for consistency\n",
    "words_romeo = words_romeo.select(F.lower(\"word\").alias(\"word\"))\n",
    "# filter empty words\n",
    "words_romeo = words_romeo.filter(F.col(\"word\")!= \"\")\n",
    "# remove common words\n",
    "common_words = {'for', 'at', 'the', 'in', 'a', 'an', 'and', 'i', 'to', 'of', 'is', 's'}\n",
    "words_romeo = words_romeo.filter(~col(\"word\").isin(common_words))\n",
    "\n",
    "words_romeo.show()"
   ]
  },
  {
   "cell_type": "markdown",
   "id": "840beab0-01e0-471c-9882-7a8d8107fb31",
   "metadata": {},
   "source": [
    "Total word count: Output the total word count summarizing all plays.\n"
   ]
  },
  {
   "cell_type": "code",
   "execution_count": 33,
   "id": "e18b33d7-e78b-4464-b1f3-8c64fbf1c967",
   "metadata": {},
   "outputs": [
    {
     "data": {
      "text/plain": [
       "24052"
      ]
     },
     "execution_count": 33,
     "metadata": {},
     "output_type": "execute_result"
    }
   ],
   "source": [
    "words_romeo.count()"
   ]
  },
  {
   "cell_type": "markdown",
   "id": "9e03d226-8353-4430-8527-497a6b3ec353",
   "metadata": {},
   "source": [
    "Grouped word count: Group and tally each word present amongst all plays combined. Sort with the most frequent words first."
   ]
  },
  {
   "cell_type": "code",
   "execution_count": 36,
   "id": "c7693b5c-e6a0-4002-91ac-7bf2732355b2",
   "metadata": {},
   "outputs": [
    {
     "name": "stdout",
     "output_type": "stream",
     "text": [
      "+------+-----+\n",
      "|  word|count|\n",
      "+------+-----+\n",
      "|   you|  361|\n",
      "|  that|  360|\n",
      "|    my|  355|\n",
      "| romeo|  302|\n",
      "|  with|  299|\n",
      "|   not|  287|\n",
      "|  thou|  277|\n",
      "|  this|  265|\n",
      "|    me|  264|\n",
      "|    it|  242|\n",
      "|    be|  226|\n",
      "|   but|  185|\n",
      "|juliet|  182|\n",
      "|   thy|  170|\n",
      "|    as|  166|\n",
      "|  what|  163|\n",
      "|  will|  156|\n",
      "|   her|  153|\n",
      "| nurse|  149|\n",
      "|     o|  149|\n",
      "+------+-----+\n",
      "only showing top 20 rows\n",
      "\n"
     ]
    },
    {
     "data": {
      "text/plain": [
       "4369"
      ]
     },
     "execution_count": 36,
     "metadata": {},
     "output_type": "execute_result"
    }
   ],
   "source": [
    "grouped_words_romeo = words_romeo.groupBy(\"word\").count().orderBy(F.desc(\"count\"))\n",
    "grouped_words_romeo.show()\n",
    "grouped_words_romeo.count()"
   ]
  },
  {
   "cell_type": "markdown",
   "id": "bd7d2fec-d673-4747-b956-3c3f0b9daba3",
   "metadata": {},
   "source": [
    "Turn it all into a function"
   ]
  },
  {
   "cell_type": "code",
   "execution_count": 42,
   "id": "ac05f725-5e88-4344-879b-e75c39a535f9",
   "metadata": {},
   "outputs": [],
   "source": [
    "def romeo_wordcount (romeo):\n",
    "    # Load text as df\n",
    "    df_romeo = spark.read.text(SparkFiles.get('pg1513.txt'))\n",
    "\n",
    "    # split text, filter empty words, & remove common words\n",
    "    words_romeo = df_romeo.select(F.explode(F.split(F.col(\"value\"), \"[\\s\\.\\,\\!\\?\\;\\_\\[\\]\\(\\)]+\")).alias(\"word\"))\n",
    "    words_romeo = words_romeo.select(F.lower(\"word\").alias(\"word\"))\n",
    "    words_romeo = words_romeo.filter(F.col(\"word\")!= \"\")\n",
    "    \n",
    "    common_words = {'for', 'at', 'the', 'in', 'a', 'an', 'and', 'i', 'to', 'of', 'is', 's'}\n",
    "    words_romeo = words_romeo.filter(~col(\"word\").isin(common_words))\n",
    "\n",
    "    # Get total word counts\n",
    "    grouped_words_romeo = words_romeo.groupBy(\"word\").count().orderBy(F.desc(\"count\"))\n",
    "\n",
    "    return words_romeo, grouped_words_romeo\n"
   ]
  },
  {
   "cell_type": "markdown",
   "id": "69614cf8-6e6d-47fd-83e4-e2b7a19f2241",
   "metadata": {},
   "source": [
    "Turn both plays into a function\n"
   ]
  },
  {
   "cell_type": "code",
   "execution_count": 51,
   "id": "f5cb8e81-1422-40b0-bbe3-196a606b641f",
   "metadata": {},
   "outputs": [],
   "source": [
    "# Set plays into a dictionary \n",
    "playfiles = {'Romeo & Juliet':'pg1513.txt',\n",
    "            'Macbeth': 'pg1533.txt'}\n",
    "\n",
    "def wordcount_all_plays(playname):\n",
    "    df = spark.read.text(SparkFiles.get(playfiles[playname]))\n",
    "    # split text, filter empty words, & remove common words\n",
    "    words_df = df.select(F.explode(F.split(F.col(\"value\"), \"[\\s\\.\\,\\!\\?\\;\\_\\[\\]\\(\\)]+\")).alias(\"word\"))\n",
    "    words_df = words_df.select(F.lower(\"word\").alias(\"word\"))\n",
    "    words_df = words_df.filter(F.col(\"word\")!= \"\")\n",
    "    words_df = words_df.filter(~col(\"word\").isin(common_words))\n",
    "    # define total word counts\n",
    "    total_wordcount = words_df.count()\n",
    "\n",
    "    # total counts per word\n",
    "    per_word_df = words_df.groupBy(\"word\").count()\n",
    "    per_word_df = per_word_df.orderBy(desc(\"count\"))\n",
    "    per_word_df = per_word_df.select(lit(playname).alias(\"play\"), col(\"word\"), col(\"count\"))  \n",
    "\n",
    "    return per_word_df, total_wordcount\n"
   ]
  },
  {
   "cell_type": "markdown",
   "id": "45019841-e503-4b22-8238-1a2198b996ee",
   "metadata": {},
   "source": [
    "**Display Eveything**"
   ]
  },
  {
   "cell_type": "code",
   "execution_count": 61,
   "id": "13d217a4-5045-496d-8fdd-e0f5298199ce",
   "metadata": {},
   "outputs": [
    {
     "name": "stdout",
     "output_type": "stream",
     "text": [
      "Total word count for Romeo & Juliet: 24052\n",
      "+--------------+------+-----+\n",
      "|          play|  word|count|\n",
      "+--------------+------+-----+\n",
      "|Romeo & Juliet|   you|  361|\n",
      "|Romeo & Juliet|  that|  360|\n",
      "|Romeo & Juliet|    my|  355|\n",
      "|Romeo & Juliet| romeo|  302|\n",
      "|Romeo & Juliet|  with|  299|\n",
      "|Romeo & Juliet|   not|  287|\n",
      "|Romeo & Juliet|  thou|  277|\n",
      "|Romeo & Juliet|  this|  265|\n",
      "|Romeo & Juliet|    me|  264|\n",
      "|Romeo & Juliet|    it|  242|\n",
      "|Romeo & Juliet|    be|  226|\n",
      "|Romeo & Juliet|   but|  185|\n",
      "|Romeo & Juliet|juliet|  182|\n",
      "|Romeo & Juliet|   thy|  170|\n",
      "|Romeo & Juliet|    as|  166|\n",
      "|Romeo & Juliet|  what|  163|\n",
      "|Romeo & Juliet|  will|  156|\n",
      "|Romeo & Juliet|   her|  153|\n",
      "|Romeo & Juliet| nurse|  149|\n",
      "|Romeo & Juliet|     o|  149|\n",
      "+--------------+------+-----+\n",
      "only showing top 20 rows\n",
      "\n",
      "Total word count for Macbeth: 17782\n",
      "+-------+-------+-----+\n",
      "|   play|   word|count|\n",
      "+-------+-------+-----+\n",
      "|Macbeth|macbeth|  285|\n",
      "|Macbeth|    you|  273|\n",
      "|Macbeth|   that|  239|\n",
      "|Macbeth|   with|  206|\n",
      "|Macbeth|    not|  191|\n",
      "|Macbeth|     my|  190|\n",
      "|Macbeth|     it|  168|\n",
      "|Macbeth|     be|  154|\n",
      "|Macbeth|    his|  150|\n",
      "|Macbeth|   this|  147|\n",
      "|Macbeth|   your|  131|\n",
      "|Macbeth|   have|  130|\n",
      "|Macbeth|    our|  123|\n",
      "|Macbeth|    but|  121|\n",
      "|Macbeth|     he|  119|\n",
      "|Macbeth|     or|  115|\n",
      "|Macbeth|    all|  113|\n",
      "|Macbeth|     me|  110|\n",
      "|Macbeth|macduff|  109|\n",
      "|Macbeth|     as|  100|\n",
      "+-------+-------+-----+\n",
      "only showing top 20 rows\n",
      "\n"
     ]
    }
   ],
   "source": [
    "# Initalize varible se to none that will eventially hold the combined dfs of word counts\n",
    "all_wordcount_df = None\n",
    "\n",
    "for playname in playfiles.keys():\n",
    "    # Define word count for each play\n",
    "    per_word_df, total_wordcount = wordcount_all_plays(playname)\n",
    "    # Print the wordcount & show\n",
    "    print(f\"Total word count for {playname}: {total_wordcount}\")\n",
    "    per_word_df.show()\n",
    "\n",
    "    # If statement for initialized variable all_wordcount_df\n",
    "    if all_wordcount_df:\n",
    "        all_wordcount_df = all_wordcount_df.union(per_word_df)\n",
    "    else:\n",
    "        all_wordcount_df = per_word_df\n",
    "    "
   ]
  },
  {
   "cell_type": "code",
   "execution_count": 66,
   "id": "20ffad41-d23e-43de-b12e-ffd4902184f1",
   "metadata": {},
   "outputs": [
    {
     "name": "stdout",
     "output_type": "stream",
     "text": [
      "+-------+-----+\n",
      "|   word|count|\n",
      "+-------+-----+\n",
      "|    you|  634|\n",
      "|   that|  599|\n",
      "|     my|  545|\n",
      "|   with|  505|\n",
      "|    not|  478|\n",
      "|   this|  412|\n",
      "|     it|  410|\n",
      "|     be|  380|\n",
      "|     me|  374|\n",
      "|   thou|  365|\n",
      "|    but|  306|\n",
      "|  romeo|  302|\n",
      "|macbeth|  285|\n",
      "|    his|  284|\n",
      "|     as|  266|\n",
      "|   have|  263|\n",
      "|   what|  262|\n",
      "|     or|  259|\n",
      "|     so|  245|\n",
      "|     he|  243|\n",
      "+-------+-----+\n",
      "only showing top 20 rows\n",
      "\n"
     ]
    }
   ],
   "source": [
    "# Get total wordcount of all plays into a df\n",
    "total_wordcount_df = all_wordcount_df.groupBy(\"word\").agg(sum(\"count\").alias(\"count\"))\n",
    "total_wordcount_df = total_wordcount_df.orderBy(desc(\"count\"))\n",
    "total_wordcount_df.show()"
   ]
  },
  {
   "cell_type": "markdown",
   "id": "98d6f2d3-c4fa-42e7-b254-c31f36bd1733",
   "metadata": {},
   "source": [
    "**Analyze with Pandas**"
   ]
  },
  {
   "cell_type": "markdown",
   "id": "220c929b-0305-4dd7-b0d8-86846ccccc5c",
   "metadata": {},
   "source": [
    "Display a word cloud with the top 50 words."
   ]
  },
  {
   "cell_type": "code",
   "execution_count": 59,
   "id": "73e8a395-8858-4798-81ac-f6cfbddcc29c",
   "metadata": {
    "scrolled": true
   },
   "outputs": [
    {
     "name": "stdout",
     "output_type": "stream",
     "text": [
      "Collecting wordcloud\n",
      "  Downloading wordcloud-1.9.3-cp311-cp311-manylinux_2_17_x86_64.manylinux2014_x86_64.whl.metadata (3.4 kB)\n",
      "Requirement already satisfied: matplotlib in /opt/conda/lib/python3.11/site-packages (3.8.0)\n",
      "Requirement already satisfied: numpy>=1.6.1 in /opt/conda/lib/python3.11/site-packages (from wordcloud) (1.24.4)\n",
      "Requirement already satisfied: pillow in /opt/conda/lib/python3.11/site-packages (from wordcloud) (10.1.0)\n",
      "Requirement already satisfied: contourpy>=1.0.1 in /opt/conda/lib/python3.11/site-packages (from matplotlib) (1.1.1)\n",
      "Requirement already satisfied: cycler>=0.10 in /opt/conda/lib/python3.11/site-packages (from matplotlib) (0.12.1)\n",
      "Requirement already satisfied: fonttools>=4.22.0 in /opt/conda/lib/python3.11/site-packages (from matplotlib) (4.43.1)\n",
      "Requirement already satisfied: kiwisolver>=1.0.1 in /opt/conda/lib/python3.11/site-packages (from matplotlib) (1.4.5)\n",
      "Requirement already satisfied: packaging>=20.0 in /opt/conda/lib/python3.11/site-packages (from matplotlib) (23.2)\n",
      "Requirement already satisfied: pyparsing>=2.3.1 in /opt/conda/lib/python3.11/site-packages (from matplotlib) (3.1.1)\n",
      "Requirement already satisfied: python-dateutil>=2.7 in /opt/conda/lib/python3.11/site-packages (from matplotlib) (2.8.2)\n",
      "Requirement already satisfied: six>=1.5 in /opt/conda/lib/python3.11/site-packages (from python-dateutil>=2.7->matplotlib) (1.16.0)\n",
      "Downloading wordcloud-1.9.3-cp311-cp311-manylinux_2_17_x86_64.manylinux2014_x86_64.whl (548 kB)\n",
      "\u001b[2K   \u001b[90m━━━━━━━━━━━━━━━━━━━━━━━━━━━━━━━━━━━━━━━━\u001b[0m \u001b[32m548.3/548.3 kB\u001b[0m \u001b[31m4.3 MB/s\u001b[0m eta \u001b[36m0:00:00\u001b[0ma \u001b[36m0:00:01\u001b[0m\n",
      "\u001b[?25hInstalling collected packages: wordcloud\n",
      "Successfully installed wordcloud-1.9.3\n"
     ]
    }
   ],
   "source": [
    "!pip install wordcloud matplotlib\n"
   ]
  },
  {
   "cell_type": "code",
   "execution_count": 73,
   "id": "413752d1-8e51-40e4-b1b2-8267daf820e0",
   "metadata": {},
   "outputs": [],
   "source": [
    "# Import libraries\n",
    "import numpy as np\n",
    "import pandas as pd\n",
    "import matplotlib.pyplot as plt\n",
    "from os import path\n",
    "from PIL import Image\n",
    "from wordcloud import WordCloud, STOPWORDS, ImageColorGenerator"
   ]
  },
  {
   "cell_type": "code",
   "execution_count": 67,
   "id": "4bb78282-bee2-4407-a725-508c82eb2a6d",
   "metadata": {},
   "outputs": [],
   "source": [
    "# Convert to Pandas df\n",
    "\n",
    "pandas_df = total_wordcount_df.toPandas()"
   ]
  },
  {
   "cell_type": "code",
   "execution_count": 74,
   "id": "e95064cd-8327-4bc0-99e6-c032d57f37a2",
   "metadata": {},
   "outputs": [
    {
     "data": {
      "image/png": "[encoded data removed]",
      "text/plain": [
       "<Figure size 640x480 with 1 Axes>"
      ]
     },
     "metadata": {},
     "output_type": "display_data"
    }
   ],
   "source": [
    "# calculate top 50 words\n",
    "top_50_words = pandas_df.iloc[:50]\n",
    "frequencies = pd.Series(top_50_words['count'].values,index=top_50_words['word']).to_dict()\n",
    "\n",
    "wc = WordCloud()\n",
    "wc.generate_from_frequencies(frequencies)\n",
    "\n",
    "# Display the generated image:\n",
    "plt.imshow(wc, interpolation='bilinear')\n",
    "plt.axis(\"off\")\n",
    "plt.show()"
   ]
  },
  {
   "cell_type": "markdown",
   "id": "a893cd04-c1e4-4d36-92e2-3968631523b5",
   "metadata": {},
   "source": [
    "Create a histogram of word counts.\n"
   ]
  },
  {
   "cell_type": "code",
   "execution_count": 75,
   "id": "905a85e9-2e03-4c2e-bdee-40bd60777d8f",
   "metadata": {},
   "outputs": [
    {
     "data": {
      "image/png": "[encoded data removed]",
      "text/plain": [
       "<Figure size 640x480 with 1 Axes>"
      ]
     },
     "metadata": {},
     "output_type": "display_data"
    }
   ],
   "source": [
    "plt.hist(pandas_df['count'])\n",
    "plt.show()"
   ]
  },
  {
   "cell_type": "code",
   "execution_count": null,
   "id": "3640d4e8-719f-4920-85b0-69c2a39018c5",
   "metadata": {},
   "outputs": [],
   "source": []
  }
 ],
 "metadata": {
  "kernelspec": {
   "display_name": "Python 3 (ipykernel)",
   "language": "python",
   "name": "python3"
  },
  "language_info": {
   "codemirror_mode": {
    "name": "ipython",
    "version": 3
   },
   "file_extension": ".py",
   "mimetype": "text/x-python",
   "name": "python",
   "nbconvert_exporter": "python",
   "pygments_lexer": "ipython3",
   "version": "3.11.6"
  }
 },
 "nbformat": 4,
 "nbformat_minor": 5
}
